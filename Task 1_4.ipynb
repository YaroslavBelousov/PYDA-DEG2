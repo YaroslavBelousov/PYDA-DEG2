{
 "cells": [
  {
   "cell_type": "code",
   "execution_count": 2,
   "metadata": {},
   "outputs": [
    {
     "name": "stdout",
     "output_type": "stream",
     "text": [
      "стандартная коробка №3\n"
     ]
    }
   ],
   "source": [
    "width = 55\n",
    "length = 55\n",
    "height = 55\n",
    "if width < 15 and length < 15 and height < 15:\n",
    "    print (\"Коробка №1\")\n",
    "elif 15< width <50 and 15< length <50 and 15< height <50:\n",
    "    print (\"Коробка №2\")\n",
    "elif length > 200:\n",
    "    print (\"Упаковка для лыж\")\n",
    "else:\n",
    "    print (\"стандартная коробка №3\")"
   ]
  },
  {
   "cell_type": "code",
   "execution_count": null,
   "metadata": {},
   "outputs": [],
   "source": []
  },
  {
   "cell_type": "code",
   "execution_count": null,
   "metadata": {},
   "outputs": [],
   "source": []
  }
 ],
 "metadata": {
  "kernelspec": {
   "display_name": "Python 3",
   "language": "python",
   "name": "python3"
  },
  "language_info": {
   "codemirror_mode": {
    "name": "ipython",
    "version": 3
   },
   "file_extension": ".py",
   "mimetype": "text/x-python",
   "name": "python",
   "nbconvert_exporter": "python",
   "pygments_lexer": "ipython3",
   "version": "3.8.3"
  }
 },
 "nbformat": 4,
 "nbformat_minor": 4
}
