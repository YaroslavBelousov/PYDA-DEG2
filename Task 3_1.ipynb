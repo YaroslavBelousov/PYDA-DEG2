ids = {"user1": [213, 213, 213, 15, 213],
"user2": [54, 54, 119, 119, 119],
"user3": [213, 98, 98, 35]}
marks = set()
for element in (ids.values()):
  marks.update(set(element))
print ("Результат:",(marks)) 
