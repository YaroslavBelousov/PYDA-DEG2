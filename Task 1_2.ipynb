{
 "cells": [
  {
   "cell_type": "code",
   "execution_count": 4,
   "metadata": {},
   "outputs": [
    {
     "name": "stdout",
     "output_type": "stream",
     "text": [
      "Високосный год\n"
     ]
    }
   ],
   "source": [
    "# Григорианский календарь предусматривает, что год, который делится без остатка на 100 (например, 1900)\n",
    "# является високосным годом только в том случае, если он также без остатка делится на 400.\n",
    "\n",
    "# По этой причине следующие годы не являются високосными:\n",
    "# 1700, 1800, 1900, 2100, 2200, 2300, 2500, 2600\n",
    "\n",
    "# Это потому, что они делятся без остатка на 100, но не на 400.\n",
    "# Следующие годы – високосные: 1600, 2000, 2400\n",
    "\n",
    "x = 2104\n",
    "if x/4 != round(x/4) or (x/100 == round(x/100) and x/400 != round(x/400)):\n",
    "    print (\"Обычный год\")\n",
    "elif (x/4==round(x/4) and x/100!=round(x/100)) or (x/400==round(x/400)):\n",
    "    print (\"Високосный год\") \n",
    "        \n",
    "else:   print (\"Проверь код на баги\")    "
   ]
  },
  {
   "cell_type": "code",
   "execution_count": null,
   "metadata": {},
   "outputs": [],
   "source": []
  }
 ],
 "metadata": {
  "kernelspec": {
   "display_name": "Python 3",
   "language": "python",
   "name": "python3"
  },
  "language_info": {
   "codemirror_mode": {
    "name": "ipython",
    "version": 3
   },
   "file_extension": ".py",
   "mimetype": "text/x-python",
   "name": "python",
   "nbconvert_exporter": "python",
   "pygments_lexer": "ipython3",
   "version": "3.8.3"
  }
 },
 "nbformat": 4,
 "nbformat_minor": 4
}
