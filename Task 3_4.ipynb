stats = {"facebook": 55, "yandex": 115, "vk": 120, "google": 99, "email": 42, "ok": 98}
x = 0
current_name = ""
for name,value in stats.items():
  if value > x:
    x = value
    current_name = name
print("Результат: Максимальный объем продаж на рекламном канале:",current_name)
