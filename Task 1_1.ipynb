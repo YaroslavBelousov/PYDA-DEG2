{
 "cells": [
  {
   "cell_type": "code",
   "execution_count": null,
   "metadata": {},
   "outputs": [],
   "source": [
    "Phrase_1 = \"Длинная фраза\"\n",
    "Phrase_2 = \"Короткая фраза\"\n",
    "x=len(Phrase_1)\n",
    "y=len(Phrase_2)\n",
    "if x > y:\n",
    "    print (\"Фраза 1 длиннее фразы 2\")\n",
    "elif y>x:\n",
    "        print (\"Фраза 2 длиннее фразы 1\")\n",
    "elif x == y:\n",
    "    print (\"Фразы равной длины\")"
   ]
  }
 ],
 "metadata": {
  "kernelspec": {
   "display_name": "Python 3",
   "language": "python",
   "name": "python3"
  },
  "language_info": {
   "codemirror_mode": {
    "name": "ipython",
    "version": 3
   },
   "file_extension": ".py",
   "mimetype": "text/x-python",
   "name": "python",
   "nbconvert_exporter": "python",
   "pygments_lexer": "ipython3",
   "version": "3.8.3"
  }
 },
 "nbformat": 4,
 "nbformat_minor": 4
}
