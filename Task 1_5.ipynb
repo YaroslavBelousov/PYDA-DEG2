{
 "cells": [
  {
   "cell_type": "code",
   "execution_count": 1,
   "metadata": {},
   "outputs": [
    {
     "name": "stdout",
     "output_type": "stream",
     "text": [
      "Введите ваш билет665656\n",
      "Счастливый билет :)\n"
     ]
    }
   ],
   "source": [
    "num = int(input(\"Введите ваш билет\"))\n",
    "x = (num) % 1000\n",
    "result = 0\n",
    "while x > 0 :\n",
    "    digit = x % 10\n",
    "    result = result + digit\n",
    "    x = x // 10\n",
    "#print (result)\n",
    "w = (num) % 1000\n",
    "result_2 = 0\n",
    "while num> 0:\n",
    "\n",
    "    digit = num% 10\n",
    "   \n",
    "    num= num // 10\n",
    "   \n",
    "    result_2 = result_2 * 10\n",
    "    \n",
    "    result_2 = result_2 + digit  \n",
    "#print (result_2)\n",
    "result_2 = result_2 % 1000\n",
    "result_3 = 0\n",
    "while result_2 > 0 :\n",
    "    digit_2 = result_2 % 10\n",
    "    result_3 = result_3 + digit_2\n",
    "    result_2 = result_2 // 10\n",
    "#print (result_3)\n",
    "if (result) == (result_3):\n",
    "    print (\"Счастливый билет :)\")\n",
    "else:\n",
    "    print (\"Вам не повезло :(\")\n"
   ]
  },
  {
   "cell_type": "code",
   "execution_count": null,
   "metadata": {},
   "outputs": [],
   "source": []
  }
 ],
 "metadata": {
  "kernelspec": {
   "display_name": "Python 3",
   "language": "python",
   "name": "python3"
  },
  "language_info": {
   "codemirror_mode": {
    "name": "ipython",
    "version": 3
   },
   "file_extension": ".py",
   "mimetype": "text/x-python",
   "name": "python",
   "nbconvert_exporter": "python",
   "pygments_lexer": "ipython3",
   "version": "3.8.3"
  }
 },
 "nbformat": 4,
 "nbformat_minor": 4
}
