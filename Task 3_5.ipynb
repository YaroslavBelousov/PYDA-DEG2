my_list = ["2018-01-01", "yandex", "cpc", 100]
x = (len(my_list))
z = {my_list[x-2]:my_list[x-1]}
x=x-2
while x>0:
  z = {my_list[x-1]:z}
  x=x-1
print (z)
