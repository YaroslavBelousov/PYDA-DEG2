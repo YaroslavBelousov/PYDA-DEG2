queries = [
"смотреть сериалы онлайн",
"новости спорта",
"афиша кино",
"курс доллара",
"сериалы этим летом",
"курс по питону",
"сериалы про спорт"
]
all = (len(queries))
x = 0
for element in queries:
  if (len(element.split( ))) > x:
    x = len(element.split( ))
#print (x)
list = [0]
while len(list) < x:
  list.append(0)
#print (list)
for element in queries:
  y =len(element.split( )) - 1
  list[y] =list[y]+1
#print (list)
counter = 0
for element in list:
  counter += 1
  if element > 0:
    print ("Поисковых запросов, содержащих ",(counter), " слов(а):",(round(element/all * 100,2)),"%",sep ="")
